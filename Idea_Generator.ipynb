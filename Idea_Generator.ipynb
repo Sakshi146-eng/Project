{
  "cells": [
    {
      "cell_type": "code",
      "execution_count": 5,
      "metadata": {
        "colab": {
          "base_uri": "https://localhost:8080/",
          "height": 610
        },
        "id": "6prphXw0eKgc",
        "outputId": "1eafab6e-7754-496e-81c3-b630a497d72a"
      },
      "outputs": [
        {
          "name": "stdout",
          "output_type": "stream",
          "text": [
            "Colab notebook detected. To show errors in colab notebook, set debug=True in launch()\n",
            "* Running on public URL: https://e2a21329e78bc8d439.gradio.live\n",
            "\n",
            "This share link expires in 1 week. For free permanent hosting and GPU upgrades, run `gradio deploy` from the terminal in the working directory to deploy to Hugging Face Spaces (https://huggingface.co/spaces)\n"
          ]
        },
        {
          "data": {
            "text/html": [
              "<div><iframe src=\"https://e2a21329e78bc8d439.gradio.live\" width=\"100%\" height=\"500\" allow=\"autoplay; camera; microphone; clipboard-read; clipboard-write;\" frameborder=\"0\" allowfullscreen></iframe></div>"
            ],
            "text/plain": [
              "<IPython.core.display.HTML object>"
            ]
          },
          "metadata": {},
          "output_type": "display_data"
        },
        {
          "data": {
            "text/plain": []
          },
          "execution_count": 5,
          "metadata": {},
          "output_type": "execute_result"
        }
      ],
      "source": [
        "# ========================\n",
        "# Cell 4: Gradio UI\n",
        "# ========================\n",
        "demo = gr.Interface(\n",
        "    fn=generate_idea,\n",
        "    inputs=gr.Textbox(label=\"Domain of Interest\", placeholder=\"e.g., Agritech\"),\n",
        "    outputs=\"text\",\n",
        "    title=\"🚀 Startup Idea + Pitch Generator\",\n",
        "    description=\"Enter a domain (Agritech, Fintech, EdTech, etc.) and get a startup pitch with Problem & Solution.\"\n",
        ")\n",
        "\n",
        "demo.launch(share=True)\n"
      ]
    },
    {
      "cell_type": "code",
      "execution_count": 4,
      "metadata": {
        "id": "z-FmjxLgeHgh"
      },
      "outputs": [],
      "source": [
        "# ========================\n",
        "# Cell 3: Function\n",
        "# ========================\n",
        "def generate_idea(domain):\n",
        "    if not domain or not domain.strip():\n",
        "        return \"⚠️ Please provide a domain (e.g., Agritech, Fintech, EdTech).\"\n",
        "\n",
        "    prompt = f\"\"\"\n",
        "Generate a startup pitch for the domain: {domain}.\n",
        "Include the following sections:\n",
        "\n",
        "1) Business Idea (2–3 sentences)\n",
        "2) Problem Statement (explain the challenge clearly)\n",
        "3) Solution (explain how the startup solves it)\n",
        "\"\"\"\n",
        "\n",
        "    result = generator(\n",
        "        prompt,\n",
        "        max_new_tokens=400,\n",
        "        temperature=0.8,\n",
        "        do_sample=True,\n",
        "    )\n",
        "\n",
        "    return result[0][\"generated_text\"]"
      ]
    },
    {
      "cell_type": "code",
      "execution_count": null,
      "metadata": {
        "colab": {
          "base_uri": "https://localhost:8080/"
        },
        "id": "skzVzYdReBqy",
        "outputId": "ea65cc20-3f14-4581-8554-a2e62f9c543e"
      },
      "outputs": [],
      "source": [
        "# ========================\n",
        "# Cell 2: Imports + Load model\n",
        "# ========================\n",
        "from transformers import pipeline\n",
        "import gradio as gr\n",
        "\n",
        "# Use a better instruction-tuned model\n",
        "generator = pipeline(\n",
        "    \"text2text-generation\",\n",
        "    model=\"MBZUAI/LaMini-Flan-T5-783M\",\n",
        "    device_map=\"auto\"\n",
        ")"
      ]
    },
    {
      "cell_type": "code",
      "execution_count": 2,
      "metadata": {
        "id": "3xlvAS5Ad-Fu"
      },
      "outputs": [],
      "source": [
        "# ========================\n",
        "# Cell 1: Install deps\n",
        "# ========================\n",
        "!pip install -q transformers gradio torch accelerate"
      ]
    }
  ],
  "metadata": {
    "colab": {
      "provenance": []
    },
    "kernelspec": {
      "display_name": "Python 3",
      "name": "python3"
    },
    "language_info": {
      "name": "python"
    }
  },
  "nbformat": 4,
  "nbformat_minor": 0
}
